{
 "cells": [
  {
   "cell_type": "markdown",
   "id": "d0be6950",
   "metadata": {},
   "source": [
    "1. **State**\n",
    "\n",
    "    Start by defining the State of the graph.\n",
    "\n",
    "    This state schema acts as the input structure for all Nodes and Edges within the graph."
   ]
  },
  {
   "cell_type": "code",
   "execution_count": 1,
   "id": "c54751b7",
   "metadata": {},
   "outputs": [],
   "source": [
    "from typing_extensions import TypedDict\n",
    "\n",
    "class State(TypedDict):\n",
    "    graph_state: str"
   ]
  },
  {
   "cell_type": "code",
   "execution_count": 2,
   "id": "4aa4e817",
   "metadata": {},
   "outputs": [],
   "source": [
    "def node1(state):\n",
    "    print(\"----Node1----\")\n",
    "    return {\"graph_state\": state[\"graph_state\"] + \" \" + \"welcome\"}\n",
    "\n",
    "def node2(state):\n",
    "    print(\"----Node2----\")\n",
    "    return {\"graph_state\": state[\"graph_state\"] + \" to the DataHack Summit!\"}\n",
    "\n",
    "def node3(state):\n",
    "    print(\"----Node3----\")\n",
    "    return {\"graph_state\": state[\"graph_state\"] + \" Enjoy the event!\"}"
   ]
  },
  {
   "cell_type": "code",
   "execution_count": 3,
   "id": "9b4fa560",
   "metadata": {},
   "outputs": [],
   "source": [
    "import random\n",
    "from typing import Literal\n",
    "\n",
    "def decide_node(state) -> Literal[\"node2\", \"node3\"]:\n",
    "    user_input = state[\"graph_state\"]\n",
    "\n",
    "    if random.random() < 0.5:\n",
    "        return \"node2\"\n",
    "    \n",
    "    return \"node3\""
   ]
  },
  {
   "cell_type": "code",
   "execution_count": 4,
   "id": "a53ccc05",
   "metadata": {},
   "outputs": [
    {
     "data": {
      "text/plain": [
       "'node3'"
      ]
     },
     "execution_count": 4,
     "metadata": {},
     "output_type": "execute_result"
    }
   ],
   "source": [
    "decide_node({\"graph_state\":\"Taha\"})"
   ]
  },
  {
   "cell_type": "code",
   "execution_count": 14,
   "id": "29a6fe20",
   "metadata": {},
   "outputs": [
    {
     "name": "stdout",
     "output_type": "stream",
     "text": [
      "Collecting langchain_groq\n",
      "  Downloading langchain_groq-0.3.8-py3-none-any.whl.metadata (2.6 kB)\n",
      "Requirement already satisfied: langchain-core<1.0.0,>=0.3.75 in c:\\users\\taham\\appdata\\local\\programs\\python\\python312\\lib\\site-packages (from langchain_groq) (0.3.76)\n",
      "Collecting groq<1,>=0.30.0 (from langchain_groq)\n",
      "  Downloading groq-0.31.1-py3-none-any.whl.metadata (16 kB)\n",
      "Requirement already satisfied: anyio<5,>=3.5.0 in c:\\users\\taham\\appdata\\local\\programs\\python\\python312\\lib\\site-packages (from groq<1,>=0.30.0->langchain_groq) (4.10.0)\n",
      "Requirement already satisfied: distro<2,>=1.7.0 in c:\\users\\taham\\appdata\\local\\programs\\python\\python312\\lib\\site-packages (from groq<1,>=0.30.0->langchain_groq) (1.9.0)\n",
      "Requirement already satisfied: httpx<1,>=0.23.0 in c:\\users\\taham\\appdata\\local\\programs\\python\\python312\\lib\\site-packages (from groq<1,>=0.30.0->langchain_groq) (0.27.2)\n",
      "Requirement already satisfied: pydantic<3,>=1.9.0 in c:\\users\\taham\\appdata\\local\\programs\\python\\python312\\lib\\site-packages (from groq<1,>=0.30.0->langchain_groq) (2.11.7)\n",
      "Requirement already satisfied: sniffio in c:\\users\\taham\\appdata\\local\\programs\\python\\python312\\lib\\site-packages (from groq<1,>=0.30.0->langchain_groq) (1.3.1)\n",
      "Requirement already satisfied: typing-extensions<5,>=4.10 in c:\\users\\taham\\appdata\\local\\programs\\python\\python312\\lib\\site-packages (from groq<1,>=0.30.0->langchain_groq) (4.14.1)\n",
      "Requirement already satisfied: langsmith>=0.3.45 in c:\\users\\taham\\appdata\\local\\programs\\python\\python312\\lib\\site-packages (from langchain-core<1.0.0,>=0.3.75->langchain_groq) (0.4.28)\n",
      "Requirement already satisfied: tenacity!=8.4.0,<10.0.0,>=8.1.0 in c:\\users\\taham\\appdata\\local\\programs\\python\\python312\\lib\\site-packages (from langchain-core<1.0.0,>=0.3.75->langchain_groq) (8.5.0)\n",
      "Requirement already satisfied: jsonpatch<2.0,>=1.33 in c:\\users\\taham\\appdata\\local\\programs\\python\\python312\\lib\\site-packages (from langchain-core<1.0.0,>=0.3.75->langchain_groq) (1.33)\n",
      "Requirement already satisfied: PyYAML>=5.3 in c:\\users\\taham\\appdata\\local\\programs\\python\\python312\\lib\\site-packages (from langchain-core<1.0.0,>=0.3.75->langchain_groq) (6.0.2)\n",
      "Requirement already satisfied: packaging>=23.2 in c:\\users\\taham\\appdata\\roaming\\python\\python312\\site-packages (from langchain-core<1.0.0,>=0.3.75->langchain_groq) (24.1)\n",
      "Requirement already satisfied: idna>=2.8 in c:\\users\\taham\\appdata\\local\\programs\\python\\python312\\lib\\site-packages (from anyio<5,>=3.5.0->groq<1,>=0.30.0->langchain_groq) (3.10)\n",
      "Requirement already satisfied: certifi in c:\\users\\taham\\appdata\\local\\programs\\python\\python312\\lib\\site-packages (from httpx<1,>=0.23.0->groq<1,>=0.30.0->langchain_groq) (2025.8.3)\n",
      "Requirement already satisfied: httpcore==1.* in c:\\users\\taham\\appdata\\local\\programs\\python\\python312\\lib\\site-packages (from httpx<1,>=0.23.0->groq<1,>=0.30.0->langchain_groq) (1.0.9)\n",
      "Requirement already satisfied: h11>=0.16 in c:\\users\\taham\\appdata\\local\\programs\\python\\python312\\lib\\site-packages (from httpcore==1.*->httpx<1,>=0.23.0->groq<1,>=0.30.0->langchain_groq) (0.16.0)\n",
      "Requirement already satisfied: jsonpointer>=1.9 in c:\\users\\taham\\appdata\\local\\programs\\python\\python312\\lib\\site-packages (from jsonpatch<2.0,>=1.33->langchain-core<1.0.0,>=0.3.75->langchain_groq) (3.0.0)\n",
      "Requirement already satisfied: orjson>=3.9.14 in c:\\users\\taham\\appdata\\local\\programs\\python\\python312\\lib\\site-packages (from langsmith>=0.3.45->langchain-core<1.0.0,>=0.3.75->langchain_groq) (3.10.7)\n",
      "Requirement already satisfied: requests-toolbelt>=1.0.0 in c:\\users\\taham\\appdata\\local\\programs\\python\\python312\\lib\\site-packages (from langsmith>=0.3.45->langchain-core<1.0.0,>=0.3.75->langchain_groq) (1.0.0)\n",
      "Requirement already satisfied: requests>=2.0.0 in c:\\users\\taham\\appdata\\local\\programs\\python\\python312\\lib\\site-packages (from langsmith>=0.3.45->langchain-core<1.0.0,>=0.3.75->langchain_groq) (2.32.3)\n",
      "Requirement already satisfied: zstandard>=0.23.0 in c:\\users\\taham\\appdata\\local\\programs\\python\\python312\\lib\\site-packages (from langsmith>=0.3.45->langchain-core<1.0.0,>=0.3.75->langchain_groq) (0.23.0)\n",
      "Requirement already satisfied: annotated-types>=0.6.0 in c:\\users\\taham\\appdata\\local\\programs\\python\\python312\\lib\\site-packages (from pydantic<3,>=1.9.0->groq<1,>=0.30.0->langchain_groq) (0.7.0)\n",
      "Requirement already satisfied: pydantic-core==2.33.2 in c:\\users\\taham\\appdata\\local\\programs\\python\\python312\\lib\\site-packages (from pydantic<3,>=1.9.0->groq<1,>=0.30.0->langchain_groq) (2.33.2)\n",
      "Requirement already satisfied: typing-inspection>=0.4.0 in c:\\users\\taham\\appdata\\local\\programs\\python\\python312\\lib\\site-packages (from pydantic<3,>=1.9.0->groq<1,>=0.30.0->langchain_groq) (0.4.1)\n",
      "Requirement already satisfied: charset-normalizer<4,>=2 in c:\\users\\taham\\appdata\\local\\programs\\python\\python312\\lib\\site-packages (from requests>=2.0.0->langsmith>=0.3.45->langchain-core<1.0.0,>=0.3.75->langchain_groq) (3.3.2)\n",
      "Requirement already satisfied: urllib3<3,>=1.21.1 in c:\\users\\taham\\appdata\\local\\programs\\python\\python312\\lib\\site-packages (from requests>=2.0.0->langsmith>=0.3.45->langchain-core<1.0.0,>=0.3.75->langchain_groq) (2.2.2)\n",
      "Downloading langchain_groq-0.3.8-py3-none-any.whl (16 kB)\n",
      "Downloading groq-0.31.1-py3-none-any.whl (134 kB)\n",
      "Installing collected packages: groq, langchain_groq\n",
      "  Attempting uninstall: groq\n",
      "    Found existing installation: groq 0.29.0\n",
      "    Uninstalling groq-0.29.0:\n",
      "      Successfully uninstalled groq-0.29.0\n",
      "Successfully installed groq-0.31.1 langchain_groq-0.3.8\n",
      "Note: you may need to restart the kernel to use updated packages.\n"
     ]
    },
    {
     "name": "stderr",
     "output_type": "stream",
     "text": [
      "\n",
      "[notice] A new release of pip is available: 24.3.1 -> 25.2\n",
      "[notice] To update, run: python.exe -m pip install --upgrade pip\n"
     ]
    }
   ],
   "source": [
    "pip install langchain_groq"
   ]
  },
  {
   "cell_type": "markdown",
   "id": "e97d7cbf",
   "metadata": {},
   "source": [
    "**StateGraph**\n",
    "\n",
    "    It is used to tell that how the graph state will be , tell the type of node all share\n",
    "\n",
    "\n",
    "**Defining Nodes**\n",
    "\n",
    "    .add_node is used to define the nodes with there names and original python functions\n",
    "\n",
    "**Defining Edges**\n",
    "\n",
    "1) the edge is used to connect how the node will be execute , like the node with the start always execution of a    graph start from there\n",
    "\n",
    "2) the add_conditional_edges is used to decide where to go after start ,mostly we add there our logic to redirect on which node after the start of graph\n",
    "\n",
    "3) the node with ends tell that if graph comes on them the node executes and end the graph\n",
    "\n",
    "**Compile of Graph**\n",
    "\n",
    "   This freezes the design into an executable graph.\n",
    "\n",
    "\n",
    "**Invoking graph**\n",
    "\n",
    "    Means how to run a graph , we use graph.invoke, like this\n",
    "    graph = builder.compile()\n",
    "    graph.invoke(user_input)\n"
   ]
  },
  {
   "cell_type": "code",
   "execution_count": 8,
   "id": "cfe5d31c",
   "metadata": {},
   "outputs": [],
   "source": [
    "from langgraph.graph import StateGraph,START,END\n",
    "from IPython.display import Image, display\n",
    "builder = StateGraph(State)\n",
    "\n",
    "#defining Nodes\n",
    "builder.add_node(\"node1\", node1)\n",
    "builder.add_node(\"node2\", node2)\n",
    "builder.add_node(\"node3\", node3)\n",
    "\n",
    "#logic - Defining Edges\n",
    "builder.add_edge(START,\"node1\")\n",
    "builder.add_conditional_edges(\"node1\",decide_node)\n",
    "builder.add_edge(\"node2\",END)\n",
    "builder.add_edge(\"node3\",END)\n",
    "\n",
    "# compile the graph\n",
    "graph = builder.compile()\n"
   ]
  },
  {
   "cell_type": "code",
   "execution_count": null,
   "id": "7b80209f",
   "metadata": {},
   "outputs": [
    {
     "data": {
      "image/png": "[encoded data removed]",
      "text/plain": [
       "<langgraph.graph.state.CompiledStateGraph object at 0x000002AC95FFC710>"
      ]
     },
     "execution_count": 38,
     "metadata": {},
     "output_type": "execute_result"
    }
   ],
   "source": [
    "graph"
   ]
  },
  {
   "cell_type": "code",
   "execution_count": 9,
   "id": "db6e864e",
   "metadata": {},
   "outputs": [
    {
     "name": "stdout",
     "output_type": "stream",
     "text": [
      "----Node1----\n",
      "----Node3----\n"
     ]
    },
    {
     "data": {
      "text/plain": [
       "{'graph_state': 'Taha welcome Enjoy the event!'}"
      ]
     },
     "execution_count": 9,
     "metadata": {},
     "output_type": "execute_result"
    }
   ],
   "source": [
    "graph.invoke({\"graph_state\":\"Taha\"})"
   ]
  },
  {
   "cell_type": "markdown",
   "id": "f7ea920f",
   "metadata": {},
   "source": [
    "Let's build a simple chain that combines 4 concepts:\n",
    "\n",
    "Using chat messages as our graph state\n",
    "\n",
    "Using chat models in graph nodes\n",
    "\n",
    "Binding tools to our chat model\n",
    "\n",
    "\n",
    "Executing tool calls in graph nodes"
   ]
  },
  {
   "cell_type": "markdown",
   "id": "37f0e1dd",
   "metadata": {},
   "source": [
    "**1. Messages**\n",
    "\n",
    "Chat models can handle different types of messages representing various roles in a conversation. LangChain supports key message types like:\n",
    "\n",
    "HumanMessage - from the user\n",
    "\n",
    "AIMessage - from the chat model\n",
    "\n",
    "SystemMessage - to guide the model's behavior\n",
    "\n",
    "ToolMessage - responses from tool calls\n",
    "\n",
    "Let's build a list of messages. Each message can include:\n",
    "\n",
    "content - the message text\n",
    "\n",
    "name - optional author name\n",
    "\n",
    "response_metadata - optional metadata (e.g. from model providers for AIMessage, like OpenAI)"
   ]
  },
  {
   "cell_type": "code",
   "execution_count": 15,
   "id": "d92320a9",
   "metadata": {},
   "outputs": [],
   "source": [
    "from pprint import pprint\n",
    "from langchain_core.messages import AIMessage, HumanMessage, SystemMessage\n",
    "\n",
    "messages = [AIMessage(content=\"Hello, I'm your virtual travel assistant for Bengaluru. How can I help you plan your visit?\", name=\"Agent\")]\n",
    "messages.append(HumanMessage(content=\"Hi, I'm visiting Bengaluru for the first time. Can you suggest key places to see?\", name=\"Miguel\"))\n",
    "messages.append(AIMessage(content=\"Certainly. Some must-visit places include Lalbagh Botanical Garden, Bangalore Palace, and Cubbon Park. Are you interested in cultural sites, nature, or food experiences?\", name=\"Agent\"))\n",
    "messages.append(HumanMessage(content=\"I'm interested in a mix of history and local cuisine.\", name=\"Miguel\"))\n",
    "messages.append(AIMessage(content=\"Great choice. You can explore Tipu Sultan's Summer Palace for history, then head to VV Puram Food Street for authentic local dishes.\", name=\"Agent\"))\n"
   ]
  },
  {
   "cell_type": "code",
   "execution_count": 16,
   "id": "14f27559",
   "metadata": {},
   "outputs": [
    {
     "name": "stdout",
     "output_type": "stream",
     "text": [
      "==================================\u001b[1m Ai Message \u001b[0m==================================\n",
      "Name: Agent\n",
      "\n",
      "Hello, I'm your virtual travel assistant for Bengaluru. How can I help you plan your visit?\n",
      "================================\u001b[1m Human Message \u001b[0m=================================\n",
      "Name: Miguel\n",
      "\n",
      "Hi, I'm visiting Bengaluru for the first time. Can you suggest key places to see?\n",
      "==================================\u001b[1m Ai Message \u001b[0m==================================\n",
      "Name: Agent\n",
      "\n",
      "Certainly. Some must-visit places include Lalbagh Botanical Garden, Bangalore Palace, and Cubbon Park. Are you interested in cultural sites, nature, or food experiences?\n",
      "================================\u001b[1m Human Message \u001b[0m=================================\n",
      "Name: Miguel\n",
      "\n",
      "I'm interested in a mix of history and local cuisine.\n",
      "==================================\u001b[1m Ai Message \u001b[0m==================================\n",
      "Name: Agent\n",
      "\n",
      "Great choice. You can explore Tipu Sultan's Summer Palace for history, then head to VV Puram Food Street for authentic local dishes.\n"
     ]
    }
   ],
   "source": [
    "for m in messages:\n",
    "    m.pretty_print()"
   ]
  },
  {
   "cell_type": "code",
   "execution_count": null,
   "id": "05976ef0",
   "metadata": {},
   "outputs": [
    {
     "name": "stdout",
     "output_type": "stream",
     "text": [
      "Groq key: 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\n"
     ]
    }
   ],
   "source": [
    "import os\n",
    "os.environ[\"GROQ_API_KEY\"] = \"your key\"\n",
    "print(\"Groq key:\", os.getenv(\"GROQ_API_KEY\"))"
   ]
  },
  {
   "cell_type": "code",
   "execution_count": 18,
   "id": "6bcd17a3",
   "metadata": {},
   "outputs": [
    {
     "name": "stderr",
     "output_type": "stream",
     "text": [
      "c:\\Users\\taham\\AppData\\Local\\Programs\\Python\\Python312\\Lib\\site-packages\\tqdm\\auto.py:21: TqdmWarning: IProgress not found. Please update jupyter and ipywidgets. See https://ipywidgets.readthedocs.io/en/stable/user_install.html\n",
      "  from .autonotebook import tqdm as notebook_tqdm\n"
     ]
    }
   ],
   "source": [
    "from langchain_groq import ChatGroq\n",
    "llm = ChatGroq(model = \"llama-3.3-70b-versatile\",temperature=0)\n",
    "result = llm.invoke(messages)\n"
   ]
  },
  {
   "cell_type": "code",
   "execution_count": 19,
   "id": "a54ea47f",
   "metadata": {},
   "outputs": [
    {
     "data": {
      "text/plain": [
       "langchain_core.messages.ai.AIMessage"
      ]
     },
     "execution_count": 19,
     "metadata": {},
     "output_type": "execute_result"
    }
   ],
   "source": [
    "type(result)"
   ]
  },
  {
   "cell_type": "code",
   "execution_count": 20,
   "id": "3d400029",
   "metadata": {},
   "outputs": [
    {
     "name": "stdout",
     "output_type": "stream",
     "text": [
      "==================================\u001b[1m Ai Message \u001b[0m==================================\n",
      "\n",
      " Don't miss the ISKCON Temple and try some traditional South Indian cuisine at MTR (Mavalli Tiffin Room) or Sri Sagar. Would you like more recommendations or help with planning your itinerary?\n"
     ]
    }
   ],
   "source": [
    "result.pretty_print()"
   ]
  },
  {
   "cell_type": "code",
   "execution_count": 21,
   "id": "d79a64fd",
   "metadata": {},
   "outputs": [
    {
     "data": {
      "text/plain": [
       "\" Don't miss the ISKCON Temple and try some traditional South Indian cuisine at MTR (Mavalli Tiffin Room) or Sri Sagar. Would you like more recommendations or help with planning your itinerary?\""
      ]
     },
     "execution_count": 21,
     "metadata": {},
     "output_type": "execute_result"
    }
   ],
   "source": [
    "result.content"
   ]
  },
  {
   "cell_type": "markdown",
   "id": "1452a707",
   "metadata": {},
   "source": [
    "**Tools**\n",
    "\n",
    "Tools are valuable when you need a model to interact with external systems.\n",
    "\n",
    "These systems (such as APIs) typically expect structured inputs rather than natural language.\n",
    "\n",
    "By binding an API as a tool, you make the model aware of the expected input format.\n",
    "\n",
    "The model decides when to call a tool based on the user's natural language input, and the output will follow the tool's defined schema.\n",
    "\n",
    "Many LLM providers now support tool calling, and LangChain offers a straightforward interface for it.\n",
    "\n",
    "You can bind any Python function using ChatModel.bind_tools(function)."
   ]
  },
  {
   "cell_type": "markdown",
   "id": "071067af",
   "metadata": {},
   "source": [
    "Let's showcase a very simple example of tool calling. The multiply function is our tool.\n",
    "\n"
   ]
  },
  {
   "cell_type": "code",
   "execution_count": 22,
   "id": "8f107b33",
   "metadata": {},
   "outputs": [],
   "source": [
    "def multiple(a:int,b:int) -> int:\n",
    "    return a*b\n",
    "\n",
    "llm_with_tools = llm.bind_tools([multiple])"
   ]
  },
  {
   "cell_type": "code",
   "execution_count": 23,
   "id": "e11b41e6",
   "metadata": {},
   "outputs": [],
   "source": [
    "no_tool_call = llm_with_tools.invoke(\n",
    "    [HumanMessage(content = \"What is the way to Bangalore from Chennai?\",name = \"Miguel\")]\n",
    ")"
   ]
  },
  {
   "cell_type": "code",
   "execution_count": 24,
   "id": "9e539e98",
   "metadata": {},
   "outputs": [
    {
     "name": "stdout",
     "output_type": "stream",
     "text": [
      "==================================\u001b[1m Ai Message \u001b[0m==================================\n",
      "\n",
      "You can take a flight from Chennai International Airport to Kempegowda International Airport in Bangalore. Alternatively, you can take a train from Chennai Central Railway Station to Bangalore City Railway Station, or drive via the NH48 highway, which is approximately 346 kilometers and takes around 6 hours by car, depending on traffic conditions. Additionally, you can also take a bus from Chennai to Bangalore, which is operated by various private and government bus services.\n"
     ]
    }
   ],
   "source": [
    "no_tool_call.pretty_print()"
   ]
  },
  {
   "cell_type": "code",
   "execution_count": 25,
   "id": "247464b2",
   "metadata": {},
   "outputs": [
    {
     "data": {
      "text/plain": [
       "'You can take a flight from Chennai International Airport to Kempegowda International Airport in Bangalore. Alternatively, you can take a train from Chennai Central Railway Station to Bangalore City Railway Station, or drive via the NH48 highway, which is approximately 346 kilometers and takes around 6 hours by car, depending on traffic conditions. Additionally, you can also take a bus from Chennai to Bangalore, which is operated by various private and government bus services.'"
      ]
     },
     "execution_count": 25,
     "metadata": {},
     "output_type": "execute_result"
    }
   ],
   "source": [
    "no_tool_call.content"
   ]
  },
  {
   "cell_type": "code",
   "execution_count": 26,
   "id": "f4740b70",
   "metadata": {},
   "outputs": [],
   "source": [
    "tool_call = llm_with_tools.invoke(\n",
    "    [HumanMessage(content = f\"What is 2 multiplied by 3\",name = \"Miguel\")]\n",
    ")"
   ]
  },
  {
   "cell_type": "code",
   "execution_count": 27,
   "id": "bb515ea4",
   "metadata": {},
   "outputs": [
    {
     "name": "stdout",
     "output_type": "stream",
     "text": [
      "==================================\u001b[1m Ai Message \u001b[0m==================================\n",
      "Tool Calls:\n",
      "  multiple (q3kjvsk2a)\n",
      " Call ID: q3kjvsk2a\n",
      "  Args:\n",
      "    a: 2\n",
      "    b: 3\n"
     ]
    }
   ],
   "source": [
    "tool_call.pretty_print()"
   ]
  },
  {
   "cell_type": "code",
   "execution_count": 28,
   "id": "307bf426",
   "metadata": {},
   "outputs": [
    {
     "data": {
      "text/plain": [
       "''"
      ]
     },
     "execution_count": 28,
     "metadata": {},
     "output_type": "execute_result"
    }
   ],
   "source": [
    "#no content as the tool call was used\n",
    "tool_call.content"
   ]
  },
  {
   "cell_type": "code",
   "execution_count": 29,
   "id": "e3f89e88",
   "metadata": {},
   "outputs": [
    {
     "data": {
      "text/plain": [
       "[{'name': 'multiple',\n",
       "  'args': {'a': 2, 'b': 3},\n",
       "  'id': 'q3kjvsk2a',\n",
       "  'type': 'tool_call'}]"
      ]
     },
     "execution_count": 29,
     "metadata": {},
     "output_type": "execute_result"
    }
   ],
   "source": [
    "tool_call.tool_calls"
   ]
  },
  {
   "cell_type": "markdown",
   "id": "28442bff",
   "metadata": {},
   "source": [
    "Unlike the example graph we saw earlier, in this case we need to use messages (the message history) within the state.\n",
    "\n",
    "If we wanted to handle this manually, we'd need to create another TypedDict with a messages property.\n",
    "\n",
    "Fortunately, LangGraph already provides a built-in state type for this: MessagesState.\n",
    "\n",
    "The cool thing about this class is that it already incorporates a reducer. This reducer logic will take care of appending the new message to the message list.\n",
    "\n",
    "All of these operations will be perform by LangGraph under the hood"
   ]
  },
  {
   "cell_type": "code",
   "execution_count": 30,
   "id": "3d533d96",
   "metadata": {},
   "outputs": [],
   "source": [
    "from langgraph.graph import MessagesState\n",
    "\n",
    "class MessagesState(MessagesState):\n",
    "    pass"
   ]
  },
  {
   "cell_type": "markdown",
   "id": "9087d6e9",
   "metadata": {},
   "source": [
    "**Building the Graph**\n"
   ]
  },
  {
   "cell_type": "code",
   "execution_count": 31,
   "id": "7e444f93",
   "metadata": {},
   "outputs": [
    {
     "data": {
      "image/png": "[encoded data removed]",
      "text/plain": [
       "<IPython.core.display.Image object>"
      ]
     },
     "metadata": {},
     "output_type": "display_data"
    }
   ],
   "source": [
    "from IPython.display import Image, display\n",
    "from langgraph.graph import StateGraph,START,END\n",
    "\n",
    "def tool_calling_llm(state:MessagesState):\n",
    "    return {\"messages\":[llm_with_tools.invoke(state[\"messages\"])]}\n",
    "\n",
    "builder = StateGraph(MessagesState)\n",
    "\n",
    "builder.add_node(\"tool_calling_llm\", tool_calling_llm)\n",
    "builder.add_edge(START,\"tool_calling_llm\")\n",
    "builder.add_edge(\"tool_calling_llm\",END)\n",
    "\n",
    "graph = builder.compile()\n",
    "\n",
    "display(Image(graph.get_graph().draw_mermaid_png()))\n"
   ]
  },
  {
   "cell_type": "markdown",
   "id": "54c2503c",
   "metadata": {},
   "source": [
    "We've implemented a very simple chain!\n",
    "\n",
    "If we pass a general message (unrelated to math operations), the LLM will respond without any tool call."
   ]
  },
  {
   "cell_type": "code",
   "execution_count": 32,
   "id": "af0514c3",
   "metadata": {},
   "outputs": [
    {
     "name": "stdout",
     "output_type": "stream",
     "text": [
      "================================\u001b[1m Human Message \u001b[0m=================================\n",
      "\n",
      "Hey there ! i am taha\n",
      "==================================\u001b[1m Ai Message \u001b[0m==================================\n",
      "\n",
      "It's nice to meet you, Taha. Is there something I can help you with or would you like to chat?\n"
     ]
    }
   ],
   "source": [
    "messages = graph.invoke({\"messages\":HumanMessage(content = \"Hey there ! i am taha\")})\n",
    "\n",
    "for m in messages[\"messages\"]:\n",
    "    m.pretty_print()"
   ]
  },
  {
   "cell_type": "code",
   "execution_count": 33,
   "id": "d3383956",
   "metadata": {},
   "outputs": [
    {
     "name": "stdout",
     "output_type": "stream",
     "text": [
      "================================\u001b[1m Human Message \u001b[0m=================================\n",
      "\n",
      "Multiply 10 and 3\n",
      "==================================\u001b[1m Ai Message \u001b[0m==================================\n",
      "Tool Calls:\n",
      "  multiple (86zgfs64z)\n",
      " Call ID: 86zgfs64z\n",
      "  Args:\n",
      "    a: 10\n",
      "    b: 3\n"
     ]
    }
   ],
   "source": [
    "\n",
    "messages = graph.invoke({\"messages\": HumanMessage(content=\"Multiply 10 and 3\")})\n",
    "for m in messages['messages']:\n",
    "    m.pretty_print()\n",
    "     "
   ]
  },
  {
   "cell_type": "markdown",
   "id": "314ddf36",
   "metadata": {},
   "source": [
    "**📓 Exercise 1**\n",
    "We need to create a chain that is able to calculate this operation:\n",
    "\n",
    "\"Add two numbers (a, b) and then divide the result by c\"\n",
    "\n",
    "So, these are the things you need to consider:\n",
    "\n",
    "Implement a tool with the logic of the operation\n",
    "\n",
    "Bind the Tool to the LLM\n",
    "\n",
    "Build a Chain with LangGraph that is able to call this LLM with Tool"
   ]
  },
  {
   "cell_type": "code",
   "execution_count": 34,
   "id": "2ab2798d",
   "metadata": {},
   "outputs": [],
   "source": [
    "def tool(a:int,b:int,c:int):\n",
    "    return (a+b)/c"
   ]
  },
  {
   "cell_type": "code",
   "execution_count": 35,
   "id": "9ec4b571",
   "metadata": {},
   "outputs": [],
   "source": [
    "llm_with_tools = llm.bind_tools([tool])\n",
    "\n",
    "tool_call = llm_with_tools.invoke([\n",
    "    HumanMessage(content=\"What is the result of (10 + 5) / 3?\")\n",
    "])\n"
   ]
  },
  {
   "cell_type": "code",
   "execution_count": 36,
   "id": "3cfd9e53",
   "metadata": {},
   "outputs": [
    {
     "name": "stdout",
     "output_type": "stream",
     "text": [
      "==================================\u001b[1m Ai Message \u001b[0m==================================\n",
      "Tool Calls:\n",
      "  tool (ajj3qx3z4)\n",
      " Call ID: ajj3qx3z4\n",
      "  Args:\n",
      "    a: 10\n",
      "    b: 5\n",
      "    c: 3\n"
     ]
    }
   ],
   "source": [
    "tool_call.pretty_print()"
   ]
  },
  {
   "cell_type": "code",
   "execution_count": 37,
   "id": "a334538a",
   "metadata": {},
   "outputs": [
    {
     "data": {
      "image/png": "[encoded data removed]",
      "text/plain": [
       "<IPython.core.display.Image object>"
      ]
     },
     "metadata": {},
     "output_type": "display_data"
    }
   ],
   "source": [
    "def tool_calling_llm(state:MessagesState):\n",
    "    return {\"messages\":[llm_with_tools.invoke(state[\"messages\"])]}\n",
    "\n",
    "class MessagesState(MessagesState):\n",
    "    pass\n",
    "\n",
    "builder = StateGraph(MessagesState)\n",
    "builder.add_node(\"tool_calling_llm\", tool_calling_llm)\n",
    "\n",
    "builder.add_edge(START,\"tool_calling_llm\")\n",
    "builder.add_edge(\"tool_calling_llm\",END)    \n",
    "\n",
    "graph = builder.compile()\n",
    "\n",
    "display(Image(graph.get_graph().draw_mermaid_png()))"
   ]
  },
  {
   "cell_type": "code",
   "execution_count": 38,
   "id": "c6d3b57d",
   "metadata": {},
   "outputs": [
    {
     "name": "stdout",
     "output_type": "stream",
     "text": [
      "================================\u001b[1m Human Message \u001b[0m=================================\n",
      "\n",
      "Add 10 and 12 and then divide by 2\n",
      "==================================\u001b[1m Ai Message \u001b[0m==================================\n",
      "Tool Calls:\n",
      "  tool (sdekhvy8y)\n",
      " Call ID: sdekhvy8y\n",
      "  Args:\n",
      "    a: 10\n",
      "    b: 12\n",
      "    c: 2\n"
     ]
    }
   ],
   "source": [
    "messages = graph.invoke({\"messages\": HumanMessage(content=\"Add 10 and 12 and then divide by 2\")})\n",
    "for m in messages['messages']:\n",
    "    m.pretty_print()"
   ]
  },
  {
   "cell_type": "markdown",
   "id": "4a7c2375",
   "metadata": {},
   "source": [
    "**Router**\n",
    "\n",
    "You can think of this as a router, where the chat model decides—based on user input—whether to respond directly or to call a tool.\n",
    "\n",
    "This represents a basic form of an agent, where the LLM manages control flow by choosing between tool invocation and generating a direct reply."
   ]
  },
  {
   "cell_type": "code",
   "execution_count": 39,
   "id": "dbd16332",
   "metadata": {},
   "outputs": [],
   "source": [
    "from langchain_groq import ChatGroq\n",
    "\n",
    "def multiply(a:int,b:int):\n",
    "    \"\"\"\n",
    "\n",
    "    Args:\n",
    "        a (int): first int\n",
    "        b (int): second int\n",
    "    \"\"\"\n",
    "    return a*b\n",
    "\n",
    "llm = ChatGroq(model = \"llama-3.3-70b-versatile\",temperature=0)\n",
    "llm_with_tools = llm.bind_tools([multiply])"
   ]
  },
  {
   "cell_type": "markdown",
   "id": "3c9fba34",
   "metadata": {},
   "source": [
    "We use the built-in ToolNode and simply pass a list of our tools to initialize it.\n",
    "\n",
    "We use the built-in tools_condition as our conditional edge."
   ]
  },
  {
   "cell_type": "code",
   "execution_count": null,
   "id": "393899d3",
   "metadata": {},
   "outputs": [
    {
     "data": {
      "image/png": "[encoded data removed]",
      "text/plain": [
       "<IPython.core.display.Image object>"
      ]
     },
     "metadata": {},
     "output_type": "display_data"
    }
   ],
   "source": [
    "from IPython.display import Image,display\n",
    "from langgraph.graph import StateGraph,START,END\n",
    "from langgraph.graph import MessagesState\n",
    "from langgraph.prebuilt import ToolNode\n",
    "from langgraph.prebuilt import tools_condition\n",
    "\n",
    "\n",
    "def tool_calling_llm(state:MessagesState):\n",
    "    return {\"messages\":[llm_with_tools.invoke(state[\"messages\"])]}\n",
    "\n",
    "builder = StateGraph(MessagesState)\n",
    "\n",
    "builder.add_node(\"tool_calling_llm\",tool_calling_llm)\n",
    "builder.add_node(\"tools\",ToolNode([multiply])) #it will run the function and get args created by LLM\n",
    "\n",
    "builder.add_edge(START,\"tool_calling_llm\")\n",
    "builder.add_conditional_edges(\n",
    "    \"tool_calling_llm\",\n",
    "    # If the latest message (result) from assistant is a tool call -> tools_condition routes to tools\n",
    "    # If the latest message (result) from assistant is a not a tool call -> tools_condition routes to END\n",
    "    tools_condition\n",
    ")\n",
    "builder.add_edge(\"tools\",END)\n",
    "\n",
    "graph = builder.compile()\n",
    "\n",
    "# View\n",
    "display(Image(graph.get_graph().draw_mermaid_png()))\n",
    "     "
   ]
  },
  {
   "cell_type": "code",
   "execution_count": null,
   "id": "c49a9291",
   "metadata": {},
   "outputs": [
    {
     "name": "stdout",
     "output_type": "stream",
     "text": [
      "================================\u001b[1m Human Message \u001b[0m=================================\n",
      "\n",
      "Hello, what is 2 add by 2?\n",
      "==================================\u001b[1m Ai Message \u001b[0m==================================\n",
      "Tool Calls:\n",
      "  multiply (y6zvyabr9)\n",
      " Call ID: y6zvyabr9\n",
      "  Args:\n",
      "    a: 2\n",
      "    b: 2\n",
      "=================================\u001b[1m Tool Message \u001b[0m=================================\n",
      "Name: multiply\n",
      "\n",
      "4\n"
     ]
    }
   ],
   "source": [
    "from langchain_core.messages import HumanMessage\n",
    "messages = [HumanMessage(content=\"Hello, what is 2 multiplied by 2?\")]\n",
    "messages = graph.invoke({\"messages\": messages})\n",
    "for m in messages['messages']:\n",
    "    m.pretty_print()"
   ]
  },
  {
   "cell_type": "markdown",
   "id": "871f6adc",
   "metadata": {},
   "source": [
    "**📓 Exercise 2**\n",
    "\n",
    "Suppose we need to two additional tools. A divide and add tool. How would you do it?"
   ]
  },
  {
   "cell_type": "code",
   "execution_count": 54,
   "id": "b8f270b4",
   "metadata": {},
   "outputs": [
    {
     "data": {
      "image/png": "[encoded data removed]",
      "text/plain": [
       "<IPython.core.display.Image object>"
      ]
     },
     "metadata": {},
     "output_type": "display_data"
    }
   ],
   "source": [
    "def multiply(a: int, b: int) -> int:\n",
    "    \"\"\"Multiply a and b.\n",
    "\n",
    "    Args:\n",
    "        a: first int\n",
    "        b: second int\n",
    "    \"\"\"\n",
    "    return a * b\n",
    "\n",
    "def add(a: int, b: int) -> int:\n",
    "    \"\"\"Add a and b.\n",
    "\n",
    "    Args:\n",
    "        a: first int\n",
    "        b: second int\n",
    "    \"\"\"\n",
    "    return a + b\n",
    "\n",
    "def divide(a: int, b: int) -> float:\n",
    "    \"\"\"Divide a and b.\n",
    "\n",
    "    Args:\n",
    "        a: first int\n",
    "        b: second int\n",
    "    \"\"\"\n",
    "    return a / b\n",
    "\n",
    "\n",
    "llm = ChatGroq(model=\"llama-3.3-70b-versatile\")\n",
    "llm_with_tools = llm.bind_tools([multiply, add, divide])\n",
    "\n",
    "# Node\n",
    "def tool_calling_llm(state: MessagesState):\n",
    "    return {\"messages\": [llm_with_tools.invoke(state[\"messages\"])]}\n",
    "\n",
    "# Build graph\n",
    "builder = StateGraph(MessagesState)\n",
    "builder.add_node(\"tool_calling_llm\", tool_calling_llm)\n",
    "builder.add_node(\"tools\", ToolNode([multiply, add, divide]))\n",
    "builder.add_edge(START, \"tool_calling_llm\")\n",
    "builder.add_conditional_edges(\n",
    "    \"tool_calling_llm\",\n",
    "    # If the latest message (result) from assistant is a tool call -> tools_condition routes to tools\n",
    "    # If the latest message (result) from assistant is a not a tool call -> tools_condition routes to END\n",
    "    tools_condition,\n",
    ")\n",
    "builder.add_edge(\"tools\", END)\n",
    "graph = builder.compile()\n",
    "\n",
    "# View\n",
    "display(Image(graph.get_graph().draw_mermaid_png()))"
   ]
  },
  {
   "cell_type": "code",
   "execution_count": 55,
   "id": "f8d368fe",
   "metadata": {},
   "outputs": [
    {
     "name": "stdout",
     "output_type": "stream",
     "text": [
      "================================\u001b[1m Human Message \u001b[0m=================================\n",
      "\n",
      "Hello, what is 8 divided by 2?\n",
      "==================================\u001b[1m Ai Message \u001b[0m==================================\n",
      "Tool Calls:\n",
      "  divide (48c802vw3)\n",
      " Call ID: 48c802vw3\n",
      "  Args:\n",
      "    a: 8\n",
      "    b: 2\n",
      "=================================\u001b[1m Tool Message \u001b[0m=================================\n",
      "Name: divide\n",
      "\n",
      "4.0\n"
     ]
    }
   ],
   "source": [
    "\n",
    "messages = [HumanMessage(content=\"Hello, what is 8 divided by 2?\")]\n",
    "messages = graph.invoke({\"messages\": messages})\n",
    "for m in messages['messages']:\n",
    "    m.pretty_print()"
   ]
  },
  {
   "cell_type": "code",
   "execution_count": null,
   "id": "f2a3c53b",
   "metadata": {},
   "outputs": [],
   "source": []
  }
 ],
 "metadata": {
  "kernelspec": {
   "display_name": "Python 3",
   "language": "python",
   "name": "python3"
  },
  "language_info": {
   "codemirror_mode": {
    "name": "ipython",
    "version": 3
   },
   "file_extension": ".py",
   "mimetype": "text/x-python",
   "name": "python",
   "nbconvert_exporter": "python",
   "pygments_lexer": "ipython3",
   "version": "3.12.3"
  }
 },
 "nbformat": 4,
 "nbformat_minor": 5
}
