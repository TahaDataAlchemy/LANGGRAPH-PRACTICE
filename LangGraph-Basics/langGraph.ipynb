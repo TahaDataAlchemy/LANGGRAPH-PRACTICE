{
 "cells": [
  {
   "cell_type": "markdown",
   "id": "d0be6950",
   "metadata": {},
   "source": [
    "1. **State**\n",
    "\n",
    "    Start by defining the State of the graph.\n",
    "\n",
    "    This state schema acts as the input structure for all Nodes and Edges within the graph."
   ]
  },
  {
   "cell_type": "code",
   "execution_count": 34,
   "id": "c54751b7",
   "metadata": {},
   "outputs": [],
   "source": [
    "from typing_extensions import TypedDict\n",
    "\n",
    "class State(TypedDict):\n",
    "    graph_state: str"
   ]
  },
  {
   "cell_type": "code",
   "execution_count": 35,
   "id": "4aa4e817",
   "metadata": {},
   "outputs": [],
   "source": [
    "def node1(state):\n",
    "    print(\"----Node1----\")\n",
    "    return {\"graph_state\": state[\"graph_state\"] + \" \" + \"welcome\"}\n",
    "\n",
    "def node2(state):\n",
    "    print(\"----Node2----\")\n",
    "    return {\"graph_state\": state[\"graph_state\"] + \" to the DataHack Summit!\"}\n",
    "\n",
    "def node3(state):\n",
    "    print(\"----Node3----\")\n",
    "    return {\"graph_state\": state[\"graph_state\"] + \" Enjoy the event!\"}"
   ]
  },
  {
   "cell_type": "code",
   "execution_count": 36,
   "id": "9b4fa560",
   "metadata": {},
   "outputs": [],
   "source": [
    "import random\n",
    "from typing import Literal\n",
    "\n",
    "def decide_node(state) -> Literal[\"node2\", \"node3\"]:\n",
    "    user_input = state[\"graph_state\"]\n",
    "\n",
    "    if random.random() < 0.5:\n",
    "        return \"node2\"\n",
    "    \n",
    "    return \"node3\""
   ]
  },
  {
   "cell_type": "code",
   "execution_count": 30,
   "id": "a53ccc05",
   "metadata": {},
   "outputs": [
    {
     "data": {
      "text/plain": [
       "'node2'"
      ]
     },
     "execution_count": 30,
     "metadata": {},
     "output_type": "execute_result"
    }
   ],
   "source": [
    "decide_node({\"graph_state\":\"Taha\"})"
   ]
  },
  {
   "cell_type": "markdown",
   "id": "e97d7cbf",
   "metadata": {},
   "source": [
    "**StateGraph**\n",
    "\n",
    "    It is used to tell that how the graph state will be , tell the type of node all share\n",
    "\n",
    "\n",
    "**Defining Nodes**\n",
    "\n",
    "    .add_node is used to define the nodes with there names and original python functions\n",
    "\n",
    "**Defining Edges**\n",
    "\n",
    "1) the edge is used to connect how the node will be execute , like the node with the start always execution of a    graph start from there\n",
    "\n",
    "2) the add_conditional_edges is used to decide where to go after start ,mostly we add there our logic to redirect on which node after the start of graph\n",
    "\n",
    "3) the node with ends tell that if graph comes on them the node executes and end the graph\n",
    "\n",
    "**Compile of Graph**\n",
    "\n",
    "   This freezes the design into an executable graph.\n",
    "\n",
    "\n",
    "**Invoking graph**\n",
    "\n",
    "    Means how to run a graph , we use graph.invoke, like this\n",
    "    graph = builder.compile()\n",
    "    graph.invoke(user_input)\n"
   ]
  },
  {
   "cell_type": "code",
   "execution_count": 41,
   "id": "cfe5d31c",
   "metadata": {},
   "outputs": [],
   "source": [
    "from langgraph.graph import StateGraph,START,END\n",
    "from IPython.display import Image, display\n",
    "builder = StateGraph(State)\n",
    "\n",
    "#defining Nodes\n",
    "builder.add_node(\"node1\", node1)\n",
    "builder.add_node(\"node2\", node2)\n",
    "builder.add_node(\"node3\", node3)\n",
    "\n",
    "#logic - Defining Edges\n",
    "builder.add_edge(START,\"node1\")\n",
    "builder.add_conditional_edges(\"node1\",decide_node)\n",
    "builder.add_edge(\"node2\",END)\n",
    "builder.add_edge(\"node3\",END)\n",
    "\n",
    "# compile the graph\n",
    "graph = builder.compile()\n"
   ]
  },
  {
   "cell_type": "code",
   "execution_count": 38,
   "id": "7b80209f",
   "metadata": {},
   "outputs": [
    {
     "data": {
      "image/png": "[encoded data removed]",
      "text/plain": [
       "<langgraph.graph.state.CompiledStateGraph object at 0x000002AC95FFC710>"
      ]
     },
     "execution_count": 38,
     "metadata": {},
     "output_type": "execute_result"
    }
   ],
   "source": [
    "graph"
   ]
  },
  {
   "cell_type": "code",
   "execution_count": 40,
   "id": "db6e864e",
   "metadata": {},
   "outputs": [
    {
     "name": "stdout",
     "output_type": "stream",
     "text": [
      "----Node1----\n",
      "----Node2----\n"
     ]
    },
    {
     "data": {
      "text/plain": [
       "{'graph_state': 'Taha welcome to the DataHack Summit!'}"
      ]
     },
     "execution_count": 40,
     "metadata": {},
     "output_type": "execute_result"
    }
   ],
   "source": [
    "graph.invoke({\"graph_state\":\"Taha\"})"
   ]
  },
  {
   "cell_type": "markdown",
   "id": "f7ea920f",
   "metadata": {},
   "source": [
    "Let's build a simple chain that combines 4 concepts:\n",
    "\n",
    "Using chat messages as our graph state\n",
    "\n",
    "Using chat models in graph nodes\n",
    "\n",
    "Binding tools to our chat model\n",
    "\n",
    "\n",
    "Executing tool calls in graph nodes"
   ]
  },
  {
   "cell_type": "markdown",
   "id": "37f0e1dd",
   "metadata": {},
   "source": [
    "**1. Messages**\n",
    "\n",
    "Chat models can handle different types of messages representing various roles in a conversation. LangChain supports key message types like:\n",
    "\n",
    "HumanMessage - from the user\n",
    "\n",
    "AIMessage - from the chat model\n",
    "\n",
    "SystemMessage - to guide the model's behavior\n",
    "\n",
    "ToolMessage - responses from tool calls\n",
    "\n",
    "Let's build a list of messages. Each message can include:\n",
    "\n",
    "content - the message text\n",
    "\n",
    "name - optional author name\n",
    "\n",
    "response_metadata - optional metadata (e.g. from model providers for AIMessage, like OpenAI)"
   ]
  },
  {
   "cell_type": "code",
   "execution_count": 46,
   "id": "d92320a9",
   "metadata": {},
   "outputs": [],
   "source": [
    "from pprint import pprint\n",
    "from langchain_core.messages import AIMessage, HumanMessage, SystemMessage\n",
    "\n",
    "messages = [AIMessage(content=\"Hello, I'm your virtual travel assistant for Bengaluru. How can I help you plan your visit?\", name=\"Agent\")]\n",
    "messages.append(HumanMessage(content=\"Hi, I'm visiting Bengaluru for the first time. Can you suggest key places to see?\", name=\"Miguel\"))\n",
    "messages.append(AIMessage(content=\"Certainly. Some must-visit places include Lalbagh Botanical Garden, Bangalore Palace, and Cubbon Park. Are you interested in cultural sites, nature, or food experiences?\", name=\"Agent\"))\n",
    "messages.append(HumanMessage(content=\"I'm interested in a mix of history and local cuisine.\", name=\"Miguel\"))\n",
    "messages.append(AIMessage(content=\"Great choice. You can explore Tipu Sultan's Summer Palace for history, then head to VV Puram Food Street for authentic local dishes.\", name=\"Agent\"))\n"
   ]
  },
  {
   "cell_type": "code",
   "execution_count": 48,
   "id": "14f27559",
   "metadata": {},
   "outputs": [
    {
     "name": "stdout",
     "output_type": "stream",
     "text": [
      "==================================\u001b[1m Ai Message \u001b[0m==================================\n",
      "Name: Agent\n",
      "\n",
      "Hello, I'm your virtual travel assistant for Bengaluru. How can I help you plan your visit?\n",
      "================================\u001b[1m Human Message \u001b[0m=================================\n",
      "Name: Miguel\n",
      "\n",
      "Hi, I'm visiting Bengaluru for the first time. Can you suggest key places to see?\n",
      "==================================\u001b[1m Ai Message \u001b[0m==================================\n",
      "Name: Agent\n",
      "\n",
      "Certainly. Some must-visit places include Lalbagh Botanical Garden, Bangalore Palace, and Cubbon Park. Are you interested in cultural sites, nature, or food experiences?\n",
      "================================\u001b[1m Human Message \u001b[0m=================================\n",
      "Name: Miguel\n",
      "\n",
      "I'm interested in a mix of history and local cuisine.\n",
      "==================================\u001b[1m Ai Message \u001b[0m==================================\n",
      "Name: Agent\n",
      "\n",
      "Great choice. You can explore Tipu Sultan's Summer Palace for history, then head to VV Puram Food Street for authentic local dishes.\n"
     ]
    }
   ],
   "source": [
    "for m in messages:\n",
    "    m.pretty_print()"
   ]
  },
  {
   "cell_type": "code",
   "execution_count": null,
   "id": "05976ef0",
   "metadata": {},
   "outputs": [
    {
     "name": "stdout",
     "output_type": "stream",
     "text": [
      "Groq key: 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\n"
     ]
    }
   ],
   "source": [
    "import os\n",
    "os.environ[\"GROQ_API_KEY\"] = \"your_groq_api_key_here\"\n",
    "print(\"Groq key:\", os.getenv(\"GROQ_API_KEY\"))"
   ]
  },
  {
   "cell_type": "code",
   "execution_count": 60,
   "id": "6bcd17a3",
   "metadata": {},
   "outputs": [],
   "source": [
    "from langchain_groq import ChatGroq\n",
    "llm = ChatGroq(model = \"llama-3.3-70b-versatile\",temperature=0)\n",
    "result = llm.invoke(messages)\n"
   ]
  },
  {
   "cell_type": "code",
   "execution_count": 63,
   "id": "a54ea47f",
   "metadata": {},
   "outputs": [
    {
     "data": {
      "text/plain": [
       "langchain_core.messages.ai.AIMessage"
      ]
     },
     "execution_count": 63,
     "metadata": {},
     "output_type": "execute_result"
    }
   ],
   "source": [
    "type(result)"
   ]
  },
  {
   "cell_type": "code",
   "execution_count": 64,
   "id": "3d400029",
   "metadata": {},
   "outputs": [
    {
     "name": "stdout",
     "output_type": "stream",
     "text": [
      "==================================\u001b[1m Ai Message \u001b[0m==================================\n",
      "\n",
      " Don't miss the ISKCON Temple and try some traditional South Indian cuisine at MTR (Mavalli Tiffin Room) or Karavalli. Would you like more recommendations or details on these places?\n"
     ]
    }
   ],
   "source": [
    "result.pretty_print()"
   ]
  },
  {
   "cell_type": "code",
   "execution_count": 65,
   "id": "d79a64fd",
   "metadata": {},
   "outputs": [
    {
     "data": {
      "text/plain": [
       "\" Don't miss the ISKCON Temple and try some traditional South Indian cuisine at MTR (Mavalli Tiffin Room) or Karavalli. Would you like more recommendations or details on these places?\""
      ]
     },
     "execution_count": 65,
     "metadata": {},
     "output_type": "execute_result"
    }
   ],
   "source": [
    "result.content"
   ]
  },
  {
   "cell_type": "markdown",
   "id": "1452a707",
   "metadata": {},
   "source": [
    "**Tools**\n",
    "\n",
    "Tools are valuable when you need a model to interact with external systems.\n",
    "\n",
    "These systems (such as APIs) typically expect structured inputs rather than natural language.\n",
    "\n",
    "By binding an API as a tool, you make the model aware of the expected input format.\n",
    "\n",
    "The model decides when to call a tool based on the user's natural language input, and the output will follow the tool's defined schema.\n",
    "\n",
    "Many LLM providers now support tool calling, and LangChain offers a straightforward interface for it.\n",
    "\n",
    "You can bind any Python function using ChatModel.bind_tools(function)."
   ]
  },
  {
   "cell_type": "markdown",
   "id": "071067af",
   "metadata": {},
   "source": [
    "Let's showcase a very simple example of tool calling. The multiply function is our tool.\n",
    "\n"
   ]
  },
  {
   "cell_type": "code",
   "execution_count": 77,
   "id": "8f107b33",
   "metadata": {},
   "outputs": [],
   "source": [
    "def multiple(a:int,b:int) -> int:\n",
    "    return a*b\n",
    "\n",
    "llm_with_tools = llm.bind_tools([multiple])"
   ]
  },
  {
   "cell_type": "code",
   "execution_count": 78,
   "id": "e11b41e6",
   "metadata": {},
   "outputs": [],
   "source": [
    "no_tool_call = llm_with_tools.invoke(\n",
    "    [HumanMessage(content = \"What is the way to Bangalore from Chennai?\",name = \"Miguel\")]\n",
    ")"
   ]
  },
  {
   "cell_type": "code",
   "execution_count": 80,
   "id": "9e539e98",
   "metadata": {},
   "outputs": [
    {
     "name": "stdout",
     "output_type": "stream",
     "text": [
      "==================================\u001b[1m Ai Message \u001b[0m==================================\n",
      "\n",
      "You can take a flight from Chennai International Airport to Kempegowda International Airport in Bangalore. Alternatively, you can take a train from Chennai Central Railway Station to Bangalore City Railway Station, or a bus from Chennai's Koyambedu Bus Stand to Bangalore's Kempegowda Bus Station. You can also drive from Chennai to Bangalore via the NH48 highway, which takes around 6-7 hours depending on traffic.\n"
     ]
    }
   ],
   "source": [
    "no_tool_call.pretty_print()"
   ]
  },
  {
   "cell_type": "code",
   "execution_count": 81,
   "id": "247464b2",
   "metadata": {},
   "outputs": [
    {
     "data": {
      "text/plain": [
       "\"You can take a flight from Chennai International Airport to Kempegowda International Airport in Bangalore. Alternatively, you can take a train from Chennai Central Railway Station to Bangalore City Railway Station, or a bus from Chennai's Koyambedu Bus Stand to Bangalore's Kempegowda Bus Station. You can also drive from Chennai to Bangalore via the NH48 highway, which takes around 6-7 hours depending on traffic.\""
      ]
     },
     "execution_count": 81,
     "metadata": {},
     "output_type": "execute_result"
    }
   ],
   "source": [
    "no_tool_call.content"
   ]
  },
  {
   "cell_type": "code",
   "execution_count": 83,
   "id": "f4740b70",
   "metadata": {},
   "outputs": [],
   "source": [
    "tool_call = llm_with_tools.invoke(\n",
    "    [HumanMessage(content = f\"What is 2 multiplied by 3\",name = \"Miguel\")]\n",
    ")"
   ]
  },
  {
   "cell_type": "code",
   "execution_count": 84,
   "id": "bb515ea4",
   "metadata": {},
   "outputs": [
    {
     "name": "stdout",
     "output_type": "stream",
     "text": [
      "==================================\u001b[1m Ai Message \u001b[0m==================================\n",
      "Tool Calls:\n",
      "  multiple (pfmevz1am)\n",
      " Call ID: pfmevz1am\n",
      "  Args:\n",
      "    a: 2\n",
      "    b: 3\n"
     ]
    }
   ],
   "source": [
    "tool_call.pretty_print()"
   ]
  },
  {
   "cell_type": "code",
   "execution_count": null,
   "id": "307bf426",
   "metadata": {},
   "outputs": [
    {
     "data": {
      "text/plain": [
       "''"
      ]
     },
     "execution_count": 85,
     "metadata": {},
     "output_type": "execute_result"
    }
   ],
   "source": [
    "#no content as the tool call was used\n",
    "tool_call.content"
   ]
  },
  {
   "cell_type": "code",
   "execution_count": 86,
   "id": "e3f89e88",
   "metadata": {},
   "outputs": [
    {
     "data": {
      "text/plain": [
       "[{'name': 'multiple',\n",
       "  'args': {'a': 2, 'b': 3},\n",
       "  'id': 'pfmevz1am',\n",
       "  'type': 'tool_call'}]"
      ]
     },
     "execution_count": 86,
     "metadata": {},
     "output_type": "execute_result"
    }
   ],
   "source": [
    "tool_call.tool_calls"
   ]
  },
  {
   "cell_type": "markdown",
   "id": "28442bff",
   "metadata": {},
   "source": [
    "Unlike the example graph we saw earlier, in this case we need to use messages (the message history) within the state.\n",
    "\n",
    "If we wanted to handle this manually, we'd need to create another TypedDict with a messages property.\n",
    "\n",
    "Fortunately, LangGraph already provides a built-in state type for this: MessagesState.\n",
    "\n",
    "The cool thing about this class is that it already incorporates a reducer. This reducer logic will take care of appending the new message to the message list.\n",
    "\n",
    "All of these operations will be perform by LangGraph under the hood"
   ]
  },
  {
   "cell_type": "code",
   "execution_count": 87,
   "id": "3d533d96",
   "metadata": {},
   "outputs": [],
   "source": [
    "from langgraph.graph import MessagesState\n",
    "\n",
    "class MessagesState(MessagesState):\n",
    "    pass"
   ]
  },
  {
   "cell_type": "markdown",
   "id": "9087d6e9",
   "metadata": {},
   "source": [
    "**Building the Graph**\n"
   ]
  },
  {
   "cell_type": "code",
   "execution_count": 88,
   "id": "7e444f93",
   "metadata": {},
   "outputs": [
    {
     "data": {
      "image/png": "[encoded data removed]",
      "text/plain": [
       "<IPython.core.display.Image object>"
      ]
     },
     "metadata": {},
     "output_type": "display_data"
    }
   ],
   "source": [
    "from IPython.display import Image, display\n",
    "from langgraph.graph import StateGraph,START,END\n",
    "\n",
    "def tool_calling_llm(state:MessagesState):\n",
    "    return {\"messages\":[llm_with_tools.invoke(state[\"messages\"])]}\n",
    "\n",
    "builder = StateGraph(MessagesState)\n",
    "\n",
    "builder.add_node(\"tool_calling_llm\", tool_calling_llm)\n",
    "builder.add_edge(START,\"tool_calling_llm\")\n",
    "builder.add_edge(\"tool_calling_llm\",END)\n",
    "\n",
    "graph = builder.compile()\n",
    "\n",
    "display(Image(graph.get_graph().draw_mermaid_png()))\n"
   ]
  },
  {
   "cell_type": "markdown",
   "id": "54c2503c",
   "metadata": {},
   "source": [
    "We've implemented a very simple chain!\n",
    "\n",
    "If we pass a general message (unrelated to math operations), the LLM will respond without any tool call."
   ]
  },
  {
   "cell_type": "code",
   "execution_count": 92,
   "id": "af0514c3",
   "metadata": {},
   "outputs": [
    {
     "name": "stdout",
     "output_type": "stream",
     "text": [
      "================================\u001b[1m Human Message \u001b[0m=================================\n",
      "\n",
      "Hey there ! i am taha\n",
      "==================================\u001b[1m Ai Message \u001b[0m==================================\n",
      "\n",
      "It's nice to meet you, Taha. Is there something I can help you with or would you like to chat?\n"
     ]
    }
   ],
   "source": [
    "messages = graph.invoke({\"messages\":HumanMessage(content = \"Hey there ! i am taha\")})\n",
    "\n",
    "for m in messages[\"messages\"]:\n",
    "    m.pretty_print()"
   ]
  },
  {
   "cell_type": "code",
   "execution_count": 93,
   "id": "d3383956",
   "metadata": {},
   "outputs": [
    {
     "name": "stdout",
     "output_type": "stream",
     "text": [
      "================================\u001b[1m Human Message \u001b[0m=================================\n",
      "\n",
      "Multiply 10 and 3\n",
      "==================================\u001b[1m Ai Message \u001b[0m==================================\n",
      "Tool Calls:\n",
      "  multiple (y5mkg8fk1)\n",
      " Call ID: y5mkg8fk1\n",
      "  Args:\n",
      "    a: 10\n",
      "    b: 3\n"
     ]
    }
   ],
   "source": [
    "\n",
    "messages = graph.invoke({\"messages\": HumanMessage(content=\"Multiply 10 and 3\")})\n",
    "for m in messages['messages']:\n",
    "    m.pretty_print()\n",
    "     "
   ]
  },
  {
   "cell_type": "markdown",
   "id": "314ddf36",
   "metadata": {},
   "source": [
    "**📓 Exercise 1**\n",
    "We need to create a chain that is able to calculate this operation:\n",
    "\n",
    "\"Add two numbers (a, b) and then divide the result by c\"\n",
    "\n",
    "So, these are the things you need to consider:\n",
    "\n",
    "Implement a tool with the logic of the operation\n",
    "\n",
    "Bind the Tool to the LLM\n",
    "\n",
    "Build a Chain with LangGraph that is able to call this LLM with Tool"
   ]
  },
  {
   "cell_type": "code",
   "execution_count": 95,
   "id": "2ab2798d",
   "metadata": {},
   "outputs": [],
   "source": [
    "def tool(a:int,b:int,c:int):\n",
    "    return (a+b)/c"
   ]
  },
  {
   "cell_type": "code",
   "execution_count": 96,
   "id": "9ec4b571",
   "metadata": {},
   "outputs": [],
   "source": [
    "llm_with_tools = llm.bind_tools([tool])\n",
    "\n",
    "tool_call = llm_with_tools.invoke([\n",
    "    HumanMessage(content=\"What is the result of (10 + 5) / 3?\")\n",
    "])\n"
   ]
  },
  {
   "cell_type": "code",
   "execution_count": 97,
   "id": "3cfd9e53",
   "metadata": {},
   "outputs": [
    {
     "name": "stdout",
     "output_type": "stream",
     "text": [
      "==================================\u001b[1m Ai Message \u001b[0m==================================\n",
      "Tool Calls:\n",
      "  tool (zwzyw3wav)\n",
      " Call ID: zwzyw3wav\n",
      "  Args:\n",
      "    a: 10\n",
      "    b: 5\n",
      "    c: 3\n"
     ]
    }
   ],
   "source": [
    "tool_call.pretty_print()"
   ]
  },
  {
   "cell_type": "code",
   "execution_count": 98,
   "id": "a334538a",
   "metadata": {},
   "outputs": [
    {
     "data": {
      "image/png": "[encoded data removed]",
      "text/plain": [
       "<IPython.core.display.Image object>"
      ]
     },
     "metadata": {},
     "output_type": "display_data"
    }
   ],
   "source": [
    "def tool_calling_llm(state:MessagesState):\n",
    "    return {\"messages\":[llm_with_tools.invoke(state[\"messages\"])]}\n",
    "\n",
    "class MessagesState(MessagesState):\n",
    "    pass\n",
    "\n",
    "builder = StateGraph(MessagesState)\n",
    "builder.add_node(\"tool_calling_llm\", tool_calling_llm)\n",
    "\n",
    "builder.add_edge(START,\"tool_calling_llm\")\n",
    "builder.add_edge(\"tool_calling_llm\",END)    \n",
    "\n",
    "graph = builder.compile()\n",
    "\n",
    "display(Image(graph.get_graph().draw_mermaid_png()))"
   ]
  },
  {
   "cell_type": "code",
   "execution_count": 99,
   "id": "c6d3b57d",
   "metadata": {},
   "outputs": [
    {
     "name": "stdout",
     "output_type": "stream",
     "text": [
      "================================\u001b[1m Human Message \u001b[0m=================================\n",
      "\n",
      "Add 10 and 12 and then divide by 2\n",
      "==================================\u001b[1m Ai Message \u001b[0m==================================\n",
      "Tool Calls:\n",
      "  tool (68qx11c6t)\n",
      " Call ID: 68qx11c6t\n",
      "  Args:\n",
      "    a: 10\n",
      "    b: 12\n",
      "    c: 2\n"
     ]
    }
   ],
   "source": [
    "messages = graph.invoke({\"messages\": HumanMessage(content=\"Add 10 and 12 and then divide by 2\")})\n",
    "for m in messages['messages']:\n",
    "    m.pretty_print()"
   ]
  },
  {
   "cell_type": "code",
   "execution_count": null,
   "id": "9faeacf0",
   "metadata": {},
   "outputs": [],
   "source": []
  }
 ],
 "metadata": {
  "kernelspec": {
   "display_name": "Python 3",
   "language": "python",
   "name": "python3"
  },
  "language_info": {
   "codemirror_mode": {
    "name": "ipython",
    "version": 3
   },
   "file_extension": ".py",
   "mimetype": "text/x-python",
   "name": "python",
   "nbconvert_exporter": "python",
   "pygments_lexer": "ipython3",
   "version": "3.12.4"
  }
 },
 "nbformat": 4,
 "nbformat_minor": 5
}
