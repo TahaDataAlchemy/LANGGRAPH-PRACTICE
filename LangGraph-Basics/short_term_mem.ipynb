{
 "cells": [
  {
   "cell_type": "markdown",
   "id": "e98be9b6",
   "metadata": {},
   "source": [
    "**Short-term Memory**\n",
    "\n",
    "In this coding session we'll implement a **short-term memory**, from a very basic solution to more advanced approaches."
   ]
  },
  {
   "cell_type": "code",
   "execution_count": 2,
   "id": "59d4923b",
   "metadata": {},
   "outputs": [
    {
     "name": "stdout",
     "output_type": "stream",
     "text": [
      "Groq key: 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\n"
     ]
    }
   ],
   "source": [
    "import os\n",
    "import os\n",
    "os.environ[\"GROQ_API_KEY\"] = \"gsk_1HvkeGCnCs0fLV1m\"\n",
    "print(\"Groq key:\", os.getenv(\"GROQ_API_KEY\"))\n"
   ]
  },
  {
   "cell_type": "markdown",
   "id": "e5073924",
   "metadata": {},
   "source": [
    "Let's implement a very simple workflow to understand how the logic works. We'll start by creating a simple node that contains the LLM call.\n",
    "\n"
   ]
  },
  {
   "cell_type": "code",
   "execution_count": 3,
   "id": "301f6fdc",
   "metadata": {},
   "outputs": [
    {
     "data": {
      "image/png": "[encoded data removed]",
      "text/plain": [
       "<IPython.core.display.Image object>"
      ]
     },
     "metadata": {},
     "output_type": "display_data"
    }
   ],
   "source": [
    "from langchain_groq import ChatGroq\n",
    "from langgraph.graph import MessagesState\n",
    "from langchain_core.messages import HumanMessage,AIMessage,SystemMessage\n",
    "from langgraph.graph import START,END,StateGraph\n",
    "from IPython.display import Image,display\n",
    "\n",
    "llm = ChatGroq(model = \"llama-3.3-70b-versatile\")\n",
    "\n",
    "def assitant(state:MessagesState):\n",
    "    return {\"messages\":llm.invoke(state[\"messages\"])}\n",
    "\n",
    "workflow = StateGraph(MessagesState)\n",
    "workflow.add_node(\"assistant\",assitant)\n",
    "workflow.add_edge(START,\"assistant\")\n",
    "workflow.add_edge(\"assistant\",END)\n",
    "\n",
    "graph = workflow.compile()\n",
    "display(Image(graph.get_graph(xray=True).draw_mermaid_png()))\n",
    "\n"
   ]
  },
  {
   "cell_type": "code",
   "execution_count": 4,
   "id": "ee6555c9",
   "metadata": {},
   "outputs": [
    {
     "name": "stdout",
     "output_type": "stream",
     "text": [
      "================================\u001b[1m Human Message \u001b[0m=================================\n",
      "\n",
      "Hello,My Name is Taha\n",
      "==================================\u001b[1m Ai Message \u001b[0m==================================\n",
      "\n",
      "Hello Taha, it's nice to meet you. Is there something I can help you with or would you like to chat?\n"
     ]
    }
   ],
   "source": [
    "messages = [HumanMessage(content=\"Hello,My Name is Taha\")]\n",
    "messages= graph.invoke({\"messages\":messages})\n",
    "\n",
    "for message in messages[\"messages\"]:\n",
    "    message.pretty_print()\n"
   ]
  },
  {
   "cell_type": "markdown",
   "id": "a527126b",
   "metadata": {},
   "source": [
    "But ... what happens if I ask again my name?\n",
    "\n"
   ]
  },
  {
   "cell_type": "code",
   "execution_count": 5,
   "id": "70fa8690",
   "metadata": {},
   "outputs": [
    {
     "name": "stdout",
     "output_type": "stream",
     "text": [
      "================================\u001b[1m Human Message \u001b[0m=================================\n",
      "\n",
      "Remember my name\n",
      "==================================\u001b[1m Ai Message \u001b[0m==================================\n",
      "\n",
      "I don't have any record of your name. This is the beginning of our conversation, and I don't retain information from previous conversations. If you'd like to share your name, I'd be happy to address you by it during our conversation.\n"
     ]
    }
   ],
   "source": [
    "message = [HumanMessage(content = \"Remember my name\")]\n",
    "messages= graph.invoke({\"messages\":message})\n",
    "for message in messages[\"messages\"]:\n",
    "    message.pretty_print()"
   ]
  },
  {
   "cell_type": "markdown",
   "id": "a80e7c5a",
   "metadata": {},
   "source": [
    "Did you guess it? Memory is not working for this Graph!\n",
    "\n",
    "This is because state is transient to a single graph execution.\n",
    "\n",
    "Of course, this limits our ability to have multi-turn conversations with interruptions.\n",
    "\n",
    "We can use persistence to address this!\n",
    "\n",
    "LangGraph can use a checkpointer to automatically save the graph state after each step.\n",
    "\n",
    "This built-in persistence layer gives us memory, allowing LangGraph to pick up from the last state update.\n",
    "\n",
    "One of the easiest checkpointers to use is the MemorySaver, an in-memory key-value store for Graph state.\n",
    "\n",
    "All we need to do is simply compile the graph with a checkpointer, and our graph has memory!"
   ]
  },
  {
   "cell_type": "code",
   "execution_count": 23,
   "id": "8a4bbccb",
   "metadata": {},
   "outputs": [],
   "source": [
    "from langgraph.checkpoint.memory import MemorySaver\n",
    "\n",
    "memory = MemorySaver()\n",
    "graph_memory = workflow.compile(checkpointer=memory)"
   ]
  },
  {
   "cell_type": "markdown",
   "id": "4b7055bc",
   "metadata": {},
   "source": [
    "When we use memory, we need to specify a thread_id.\n",
    "\n",
    "This thread_id will store our collection of graph states.\n",
    "\n",
    "The checkpointer write the state at every step of the graph\n",
    "These checkpoints are saved in a thread\n",
    "We can access that thread in the future using the thread_id"
   ]
  },
  {
   "cell_type": "code",
   "execution_count": 24,
   "id": "28a39e3e",
   "metadata": {},
   "outputs": [
    {
     "name": "stdout",
     "output_type": "stream",
     "text": [
      "================================\u001b[1m Human Message \u001b[0m=================================\n",
      "\n",
      "Hello,My Name is Taha\n",
      "==================================\u001b[1m Ai Message \u001b[0m==================================\n",
      "\n",
      "Hello Taha, it's nice to meet you. Is there something I can help you with or would you like to chat?\n"
     ]
    }
   ],
   "source": [
    "config = {\"configurable\":{\"thread_id\":\"1\"}}\n",
    "\n",
    "messages = [HumanMessage(content=\"Hello,My Name is Taha\")]\n",
    "result= graph_memory.invoke({\"messages\":messages},config=config)\n",
    "\n",
    "for m in result[\"messages\"]:\n",
    "    m.pretty_print()"
   ]
  },
  {
   "cell_type": "code",
   "execution_count": 19,
   "id": "c3bc0792",
   "metadata": {},
   "outputs": [
    {
     "name": "stdout",
     "output_type": "stream",
     "text": [
      "================================\u001b[1m Human Message \u001b[0m=================================\n",
      "\n",
      "Hello,My Name is Taha\n",
      "==================================\u001b[1m Ai Message \u001b[0m==================================\n",
      "\n",
      "Hello Taha, it's nice to meet you. Is there something I can help you with or would you like to chat?\n",
      "================================\u001b[1m Human Message \u001b[0m=================================\n",
      "\n",
      "Remember my name\n",
      "==================================\u001b[1m Ai Message \u001b[0m==================================\n",
      "\n",
      "I've got it, Taha. I'll remember your name for our conversation. How can I assist you today, Taha?\n"
     ]
    }
   ],
   "source": [
    "messages = [HumanMessage(content=\"Remember my name\")]\n",
    "result = graph_memory.invoke({\"messages\":messages},config=config)\n",
    "for m in result[\"messages\"]:\n",
    "    m.pretty_print()"
   ]
  },
  {
   "cell_type": "code",
   "execution_count": null,
   "id": "790255d4",
   "metadata": {},
   "outputs": [],
   "source": []
  },
  {
   "cell_type": "code",
   "execution_count": null,
   "id": "633dd2bc",
   "metadata": {},
   "outputs": [],
   "source": []
  }
 ],
 "metadata": {
  "kernelspec": {
   "display_name": "Python 3",
   "language": "python",
   "name": "python3"
  },
  "language_info": {
   "codemirror_mode": {
    "name": "ipython",
    "version": 3
   },
   "file_extension": ".py",
   "mimetype": "text/x-python",
   "name": "python",
   "nbconvert_exporter": "python",
   "pygments_lexer": "ipython3",
   "version": "3.12.4"
  }
 },
 "nbformat": 4,
 "nbformat_minor": 5
}
