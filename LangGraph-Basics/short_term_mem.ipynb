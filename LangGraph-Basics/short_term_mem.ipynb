{
 "cells": [
  {
   "cell_type": "markdown",
   "id": "e98be9b6",
   "metadata": {},
   "source": [
    "**Short-term Memory**\n",
    "\n",
    "In this coding session we'll implement a **short-term memory**, from a very basic solution to more advanced approaches."
   ]
  },
  {
   "cell_type": "code",
   "execution_count": 1,
   "id": "59d4923b",
   "metadata": {},
   "outputs": [
    {
     "name": "stdout",
     "output_type": "stream",
     "text": [
      "Groq key: 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\n"
     ]
    }
   ],
   "source": [
    "import os\n",
    "import os\n",
    "os.environ[\"GROQ_API_KEY\"] = \"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\"\n",
    "print(\"Groq key:\", os.getenv(\"GROQ_API_KEY\"))\n"
   ]
  },
  {
   "cell_type": "markdown",
   "id": "e5073924",
   "metadata": {},
   "source": [
    "Let's implement a very simple workflow to understand how the logic works. We'll start by creating a simple node that contains the LLM call.\n",
    "\n"
   ]
  },
  {
   "cell_type": "code",
   "execution_count": 8,
   "id": "301f6fdc",
   "metadata": {},
   "outputs": [
    {
     "data": {
      "image/png": "[encoded data removed]",
      "text/plain": [
       "<IPython.core.display.Image object>"
      ]
     },
     "metadata": {},
     "output_type": "display_data"
    }
   ],
   "source": [
    "from langchain_groq import ChatGroq\n",
    "from langgraph.graph import MessagesState\n",
    "from langchain_core.messages import HumanMessage,AIMessage,SystemMessage\n",
    "from langgraph.graph import START,END,StateGraph\n",
    "from IPython.display import Image,display\n",
    "\n",
    "llm = ChatGroq(model = \"llama-3.3-70b-versatile\")\n",
    "\n",
    "def assitant(state:MessagesState):\n",
    "    return {\"messages\":llm.invoke(state[\"messages\"])}\n",
    "\n",
    "workflow = StateGraph(MessagesState)\n",
    "workflow.add_node(\"assistant\",assitant)\n",
    "workflow.add_edge(START,\"assistant\")\n",
    "workflow.add_edge(\"assistant\",END)\n",
    "\n",
    "graph = workflow.compile()\n",
    "display(Image(graph.get_graph(xray=True).draw_mermaid_png()))\n",
    "\n"
   ]
  },
  {
   "cell_type": "code",
   "execution_count": 9,
   "id": "ee6555c9",
   "metadata": {},
   "outputs": [
    {
     "name": "stdout",
     "output_type": "stream",
     "text": [
      "================================\u001b[1m Human Message \u001b[0m=================================\n",
      "\n",
      "Hello,My Name is Taha\n",
      "==================================\u001b[1m Ai Message \u001b[0m==================================\n",
      "\n",
      "Hello Taha, it's nice to meet you. Is there something I can help you with or would you like to chat?\n"
     ]
    }
   ],
   "source": [
    "messages = [HumanMessage(content=\"Hello,My Name is Taha\")]\n",
    "messages= graph.invoke({\"messages\":messages})\n",
    "\n",
    "for message in messages[\"messages\"]:\n",
    "    message.pretty_print()\n"
   ]
  },
  {
   "cell_type": "markdown",
   "id": "a527126b",
   "metadata": {},
   "source": [
    "But ... what happens if I ask again my name?\n",
    "\n"
   ]
  },
  {
   "cell_type": "code",
   "execution_count": 10,
   "id": "70fa8690",
   "metadata": {},
   "outputs": [
    {
     "name": "stdout",
     "output_type": "stream",
     "text": [
      "================================\u001b[1m Human Message \u001b[0m=================================\n",
      "\n",
      "Remember my name\n",
      "==================================\u001b[1m Ai Message \u001b[0m==================================\n",
      "\n",
      "I don't have personal memories, so I don't recall you telling me your name before. Each time you interact with me, it's a new conversation. If you'd like to share your name with me now, I'd be happy to chat with you and address you by your name during this conversation. What's your name?\n"
     ]
    }
   ],
   "source": [
    "message = [HumanMessage(content = \"Remember my name\")]\n",
    "messages= graph.invoke({\"messages\":message})\n",
    "for message in messages[\"messages\"]:\n",
    "    message.pretty_print()"
   ]
  },
  {
   "cell_type": "code",
   "execution_count": null,
   "id": "8a4bbccb",
   "metadata": {},
   "outputs": [],
   "source": []
  }
 ],
 "metadata": {
  "kernelspec": {
   "display_name": "Python 3",
   "language": "python",
   "name": "python3"
  },
  "language_info": {
   "codemirror_mode": {
    "name": "ipython",
    "version": 3
   },
   "file_extension": ".py",
   "mimetype": "text/x-python",
   "name": "python",
   "nbconvert_exporter": "python",
   "pygments_lexer": "ipython3",
   "version": "3.12.4"
  }
 },
 "nbformat": 4,
 "nbformat_minor": 5
}
